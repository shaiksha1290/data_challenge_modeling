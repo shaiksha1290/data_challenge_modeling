{
 "cells": [
  {
   "cell_type": "code",
   "execution_count": 65,
   "metadata": {},
   "outputs": [],
   "source": [
    "import pandas as pd\n",
    "import numpy as np\n",
    "import matplotlib.pyplot as plt\n",
    "import seaborn as sns\n",
    "import os\n",
    "\n",
    "from sklearn.linear_model import Lasso,Ridge,LogisticRegression\n",
    "from sklearn.ensemble import RandomForestClassifier,GradientBoostingClassifier\n",
    "from sklearn.model_selection import cross_val_score,GridSearchCV,cross_validate\n",
    "from sklearn.decomposition import PCA\n",
    "from sklearn.metrics import auc,recall_score,precision_score,f1_score,roc_auc_score,make_scorer,roc_curve\n",
    "from statsmodels.stats.outliers_influence import variance_inflation_factor    \n",
    "import warnings\n",
    "warnings.filterwarnings(action=\"ignore\")"
   ]
  },
  {
   "cell_type": "code",
   "execution_count": 2,
   "metadata": {},
   "outputs": [],
   "source": [
    "class data_util :\n",
    "     #Constructor to save file paths\n",
    "    def __init__(self, train_data , test_data) :\n",
    "        self.train_data_path = self.check_file(train_data)\n",
    "        self.test_data_path = self.check_file(test_data)\n",
    "    \n",
    "    #method to check if path is valid\n",
    "    def check_file(self,path) :\n",
    "        if os.path.isfile(path) :\n",
    "            return path\n",
    "        raise load_data_path + \"does not exist\"\n",
    "    \n",
    "    #Method to laod data\n",
    "    def load_data(self) :\n",
    "        self.train_data = pd.read_csv(self.train_data_path,\n",
    "                                     names = [\"target\"]+[\"columns\"+str(i) for i in range(1,97)])\n",
    "        self.test_data = pd.read_csv(self.test_data_path,\n",
    "                                    names = [\"target\"]+[\"columns\"+str(i) for i in range(1,97)])\n",
    "        \n",
    "        print(\"Train data has {} rows and {} columns\".format(self.train_data.shape[0],self.train_data.shape[1]))\n",
    "\n",
    "        print(\"Test data has {} rows and {} columns\".format(self.test_data.shape[0],self.test_data.shape[1]))\n",
    "    \n",
    "    #Check for missing values in columns \n",
    "    def check_missing(self) :\n",
    "        for i in [(self.train_data,\"Trainning data\"),(self.test_data,\"Testing data\")] :\n",
    "            missing_columnwise = i[0].isnull().sum(axis=0)\n",
    "            missing_columnwise = missing_columnwise[missing_columnwise!=0]\n",
    "            print(\"\\n     \"+i[1])\n",
    "            print(\"\\nNumber of Columns with missing values: \"+str(len(missing_columnwise)))\n",
    "            print(\"Columns with missing values: \"+\" \".join(missing_columnwise))\n",
    "    \n",
    "    #check for Zero Variance columns \n",
    "    def zero_varinace(self) :\n",
    "        for i in [(self.train_data,\"Trainning data\"),(self.test_data,\"Testing data\")] :\n",
    "            zero_variance_col = i[0].apply(lambda x : x.var() == 0 ,axis=0).sum()\n",
    "            print(\"\\n     \"+i[1])\n",
    "            print(\"Columns with Zero variance: \"+str(zero_variance_col))\n",
    "    \n",
    "    def check_correlation(self):\n",
    "        #combine test and train and get coorelation matrix\n",
    "        panel = pd.concat([self.train_data,self.test_data])        \n",
    "        panel = panel.drop([\"target\"],axis=1).corr(method='pearson').abs()\n",
    "        panel = panel.unstack().reset_index()\n",
    "        panel.columns = [\"Col1\",\"Col2\",\"Corr\"]\n",
    "        panel = panel[~(panel[\"Col1\"] == panel[\"Col2\"])]\n",
    "        panel = panel[panel[\"Corr\"] > 0.99]\n",
    "        \n",
    "        panel[\"Pairs\"] = panel.apply(lambda x : sorted([x[\"Col1\"],x[\"Col2\"]]),axis=1)\n",
    "        print(\"Sample Correlated pairs: \")\n",
    "        print(panel.head())\n",
    "        print(\" Pairs with correlation greater than 0.99: \"+str(len(np.unique(panel[\"Pairs\"]))))\n",
    "    \n",
    "    def VIF(self, thresh=5.0):\n",
    "        train_data_ = self.train_data.drop([\"target\"],axis=1)\n",
    "        dropped_columns = []\n",
    "        columns = list(range(train_data_.shape[1]))\n",
    "        removed = True\n",
    "        while removed:\n",
    "            removed = False\n",
    "            vif = [variance_inflation_factor(train_data_.iloc[:, columns].values, ix)\n",
    "                   for ix in range(train_data_.iloc[:, columns].shape[1])]\n",
    "\n",
    "            top_loc = vif.index(max(vif))\n",
    "            if max(vif) > thresh:\n",
    "                #print('Dropping \\'' + train_data_.iloc[:, columns].columns[top_loc] )\n",
    "                dropped_columns.append(train_data_.iloc[:, columns].columns[top_loc])\n",
    "                del columns[top_loc]\n",
    "                removed = True\n",
    "\n",
    "        print(\"Dropped Following Columns: \"+ \", \".join(dropped_columns))\n",
    "        print('Final remainning variables:')\n",
    "        print(train_data_.columns[columns])\n",
    "        #columns.append(\"target\")\n",
    "        return train_data_.iloc[:, columns]\n",
    "        \n",
    "        "
   ]
  },
  {
   "cell_type": "code",
   "execution_count": 3,
   "metadata": {},
   "outputs": [],
   "source": [
    "data  = data_util(train_data=\"../modeling/test2_modeling/interview_data/interview_data_train.csv\",\n",
    "                 test_data = \"../modeling/test2_modeling/interview_data/interview_data_test.csv\")"
   ]
  },
  {
   "cell_type": "code",
   "execution_count": 4,
   "metadata": {},
   "outputs": [
    {
     "name": "stdout",
     "output_type": "stream",
     "text": [
      "Train data has 27914 rows and 97 columns\n",
      "Test data has 13834 rows and 97 columns\n"
     ]
    }
   ],
   "source": [
    "data.load_data()"
   ]
  },
  {
   "cell_type": "code",
   "execution_count": 5,
   "metadata": {},
   "outputs": [
    {
     "name": "stdout",
     "output_type": "stream",
     "text": [
      "\n",
      "     Trainning data\n",
      "\n",
      "Number of Columns with missing values: 0\n",
      "Columns with missing values: \n",
      "\n",
      "     Testing data\n",
      "\n",
      "Number of Columns with missing values: 0\n",
      "Columns with missing values: \n"
     ]
    }
   ],
   "source": [
    "#checking for missing values\n",
    "data.check_missing()"
   ]
  },
  {
   "cell_type": "code",
   "execution_count": 6,
   "metadata": {},
   "outputs": [
    {
     "name": "stdout",
     "output_type": "stream",
     "text": [
      "\n",
      "     Trainning data\n",
      "Columns with Zero variance: 0\n",
      "\n",
      "     Testing data\n",
      "Columns with Zero variance: 0\n"
     ]
    }
   ],
   "source": [
    "#check for zero varaince columns(columns with single value)\n",
    "data.zero_varinace()"
   ]
  },
  {
   "cell_type": "code",
   "execution_count": 7,
   "metadata": {},
   "outputs": [
    {
     "name": "stdout",
     "output_type": "stream",
     "text": [
      "Sample Correlated pairs: \n",
      "         Col1       Col2      Corr                  Pairs\n",
      "17   columns1  columns18  0.999989  [columns1, columns18]\n",
      "583  columns7   columns8  0.997114   [columns7, columns8]\n",
      "584  columns7   columns9  0.999997   [columns7, columns9]\n",
      "585  columns7  columns10  0.999997  [columns10, columns7]\n",
      "586  columns7  columns11  0.997114  [columns11, columns7]\n",
      " Pairs with correlation greater than 0.99: 140\n"
     ]
    }
   ],
   "source": [
    "data.check_correlation()"
   ]
  },
  {
   "cell_type": "code",
   "execution_count": 8,
   "metadata": {
    "scrolled": true
   },
   "outputs": [
    {
     "name": "stdout",
     "output_type": "stream",
     "text": [
      "Dropped Following Columns: columns8, columns9, columns13, columns14, columns20, columns21, columns23, columns24, columns25, columns26, columns27, columns29, columns30, columns31, columns32, columns42, columns43, columns44, columns47, columns48, columns49, columns53, columns56, columns57, columns58, columns64, columns67, columns74, columns77, columns80, columns83, columns86, columns95, columns81, columns10, columns63, columns15, columns18, columns65, columns89, columns78, columns59, columns72, columns76, columns61, columns90, columns66, columns68, columns55, columns87, columns84, columns51, columns46, columns16, columns11, columns62, columns82, columns75, columns71, columns73, columns34, columns50, columns54, columns88, columns28, columns35, columns37, columns85, columns22, columns17, columns79, columns33, columns7, columns60, columns12, columns2, columns1, columns70\n",
      "Final remainning variables:\n",
      "Index(['columns3', 'columns4', 'columns5', 'columns6', 'columns19',\n",
      "       'columns36', 'columns38', 'columns39', 'columns40', 'columns41',\n",
      "       'columns45', 'columns52', 'columns69', 'columns91', 'columns92',\n",
      "       'columns93', 'columns94', 'columns96'],\n",
      "      dtype='object')\n"
     ]
    }
   ],
   "source": [
    "#calculating the variance inflation factor for each variable and deleting the variable with highest VIF value\n",
    "#looping this process till we have no variable crossing the threshold value(5.0)\n",
    "train_data = data.VIF()\n",
    "train_data[\"target\"] = data.train_data[\"target\"]"
   ]
  },
  {
   "cell_type": "code",
   "execution_count": 9,
   "metadata": {},
   "outputs": [
    {
     "data": {
      "text/html": [
       "<div>\n",
       "<style scoped>\n",
       "    .dataframe tbody tr th:only-of-type {\n",
       "        vertical-align: middle;\n",
       "    }\n",
       "\n",
       "    .dataframe tbody tr th {\n",
       "        vertical-align: top;\n",
       "    }\n",
       "\n",
       "    .dataframe thead th {\n",
       "        text-align: right;\n",
       "    }\n",
       "</style>\n",
       "<table border=\"1\" class=\"dataframe\">\n",
       "  <thead>\n",
       "    <tr style=\"text-align: right;\">\n",
       "      <th></th>\n",
       "      <th>columns3</th>\n",
       "      <th>columns4</th>\n",
       "      <th>columns5</th>\n",
       "      <th>columns6</th>\n",
       "      <th>columns19</th>\n",
       "      <th>columns36</th>\n",
       "      <th>columns38</th>\n",
       "      <th>columns39</th>\n",
       "      <th>columns40</th>\n",
       "      <th>columns41</th>\n",
       "      <th>columns45</th>\n",
       "      <th>columns52</th>\n",
       "      <th>columns69</th>\n",
       "      <th>columns91</th>\n",
       "      <th>columns92</th>\n",
       "      <th>columns93</th>\n",
       "      <th>columns94</th>\n",
       "      <th>columns96</th>\n",
       "      <th>target</th>\n",
       "    </tr>\n",
       "  </thead>\n",
       "  <tbody>\n",
       "    <tr>\n",
       "      <th>0</th>\n",
       "      <td>0.098759</td>\n",
       "      <td>-0.505371</td>\n",
       "      <td>0.167896</td>\n",
       "      <td>0.538775</td>\n",
       "      <td>-0.175995</td>\n",
       "      <td>-0.050936</td>\n",
       "      <td>0.225517</td>\n",
       "      <td>0.091388</td>\n",
       "      <td>0.059398</td>\n",
       "      <td>0.029805</td>\n",
       "      <td>-0.166607</td>\n",
       "      <td>0.115629</td>\n",
       "      <td>-0.415062</td>\n",
       "      <td>-0.207339</td>\n",
       "      <td>-0.188567</td>\n",
       "      <td>-0.027453</td>\n",
       "      <td>0.065762</td>\n",
       "      <td>-0.153453</td>\n",
       "      <td>0</td>\n",
       "    </tr>\n",
       "    <tr>\n",
       "      <th>1</th>\n",
       "      <td>0.098759</td>\n",
       "      <td>-0.505371</td>\n",
       "      <td>0.167896</td>\n",
       "      <td>0.538775</td>\n",
       "      <td>-0.175995</td>\n",
       "      <td>-0.050936</td>\n",
       "      <td>0.225517</td>\n",
       "      <td>0.091388</td>\n",
       "      <td>0.059398</td>\n",
       "      <td>0.029805</td>\n",
       "      <td>-0.166607</td>\n",
       "      <td>0.115629</td>\n",
       "      <td>-0.415062</td>\n",
       "      <td>-0.207339</td>\n",
       "      <td>-0.188567</td>\n",
       "      <td>-0.027453</td>\n",
       "      <td>0.065762</td>\n",
       "      <td>-0.153453</td>\n",
       "      <td>0</td>\n",
       "    </tr>\n",
       "    <tr>\n",
       "      <th>2</th>\n",
       "      <td>0.098759</td>\n",
       "      <td>-0.505371</td>\n",
       "      <td>0.167896</td>\n",
       "      <td>0.538775</td>\n",
       "      <td>-0.175995</td>\n",
       "      <td>-0.050936</td>\n",
       "      <td>0.225517</td>\n",
       "      <td>0.091388</td>\n",
       "      <td>0.059398</td>\n",
       "      <td>0.029805</td>\n",
       "      <td>-0.166607</td>\n",
       "      <td>0.115629</td>\n",
       "      <td>-0.415062</td>\n",
       "      <td>-0.207339</td>\n",
       "      <td>-0.188567</td>\n",
       "      <td>-0.027453</td>\n",
       "      <td>0.065762</td>\n",
       "      <td>-0.153453</td>\n",
       "      <td>0</td>\n",
       "    </tr>\n",
       "    <tr>\n",
       "      <th>3</th>\n",
       "      <td>0.098759</td>\n",
       "      <td>-0.505371</td>\n",
       "      <td>-0.500919</td>\n",
       "      <td>-0.671476</td>\n",
       "      <td>-0.175995</td>\n",
       "      <td>-0.050936</td>\n",
       "      <td>-0.150621</td>\n",
       "      <td>-0.899191</td>\n",
       "      <td>-1.058576</td>\n",
       "      <td>-1.190347</td>\n",
       "      <td>-0.166607</td>\n",
       "      <td>-0.231834</td>\n",
       "      <td>-0.415062</td>\n",
       "      <td>-0.207339</td>\n",
       "      <td>-0.188567</td>\n",
       "      <td>-0.027453</td>\n",
       "      <td>-0.948990</td>\n",
       "      <td>-0.153453</td>\n",
       "      <td>0</td>\n",
       "    </tr>\n",
       "    <tr>\n",
       "      <th>4</th>\n",
       "      <td>0.098759</td>\n",
       "      <td>-0.505371</td>\n",
       "      <td>-0.500919</td>\n",
       "      <td>0.384008</td>\n",
       "      <td>-0.175995</td>\n",
       "      <td>-0.050936</td>\n",
       "      <td>-0.150621</td>\n",
       "      <td>-0.899191</td>\n",
       "      <td>-1.058576</td>\n",
       "      <td>-1.190347</td>\n",
       "      <td>-0.166607</td>\n",
       "      <td>-0.231834</td>\n",
       "      <td>-0.415062</td>\n",
       "      <td>-0.207339</td>\n",
       "      <td>-0.188567</td>\n",
       "      <td>-0.027453</td>\n",
       "      <td>-0.948990</td>\n",
       "      <td>-0.153453</td>\n",
       "      <td>0</td>\n",
       "    </tr>\n",
       "  </tbody>\n",
       "</table>\n",
       "</div>"
      ],
      "text/plain": [
       "   columns3  columns4  columns5  columns6  columns19  columns36  columns38  \\\n",
       "0  0.098759 -0.505371  0.167896  0.538775  -0.175995  -0.050936   0.225517   \n",
       "1  0.098759 -0.505371  0.167896  0.538775  -0.175995  -0.050936   0.225517   \n",
       "2  0.098759 -0.505371  0.167896  0.538775  -0.175995  -0.050936   0.225517   \n",
       "3  0.098759 -0.505371 -0.500919 -0.671476  -0.175995  -0.050936  -0.150621   \n",
       "4  0.098759 -0.505371 -0.500919  0.384008  -0.175995  -0.050936  -0.150621   \n",
       "\n",
       "   columns39  columns40  columns41  columns45  columns52  columns69  \\\n",
       "0   0.091388   0.059398   0.029805  -0.166607   0.115629  -0.415062   \n",
       "1   0.091388   0.059398   0.029805  -0.166607   0.115629  -0.415062   \n",
       "2   0.091388   0.059398   0.029805  -0.166607   0.115629  -0.415062   \n",
       "3  -0.899191  -1.058576  -1.190347  -0.166607  -0.231834  -0.415062   \n",
       "4  -0.899191  -1.058576  -1.190347  -0.166607  -0.231834  -0.415062   \n",
       "\n",
       "   columns91  columns92  columns93  columns94  columns96  target  \n",
       "0  -0.207339  -0.188567  -0.027453   0.065762  -0.153453       0  \n",
       "1  -0.207339  -0.188567  -0.027453   0.065762  -0.153453       0  \n",
       "2  -0.207339  -0.188567  -0.027453   0.065762  -0.153453       0  \n",
       "3  -0.207339  -0.188567  -0.027453  -0.948990  -0.153453       0  \n",
       "4  -0.207339  -0.188567  -0.027453  -0.948990  -0.153453       0  "
      ]
     },
     "execution_count": 9,
     "metadata": {},
     "output_type": "execute_result"
    }
   ],
   "source": [
    "train_data.head()"
   ]
  },
  {
   "cell_type": "markdown",
   "metadata": {},
   "source": [
    "### Exploratory Data Analysis"
   ]
  },
  {
   "cell_type": "code",
   "execution_count": 10,
   "metadata": {},
   "outputs": [
    {
     "data": {
      "text/plain": [
       "<matplotlib.axes._subplots.AxesSubplot at 0x22950f08198>"
      ]
     },
     "execution_count": 10,
     "metadata": {},
     "output_type": "execute_result"
    },
    {
     "data": {
      "image/png": "[encoded data removed]",
      "text/plain": [
       "<Figure size 720x360 with 4 Axes>"
      ]
     },
     "metadata": {},
     "output_type": "display_data"
    }
   ],
   "source": [
    "#Distributions \n",
    "fig, ax = plt.subplots(nrows=2,ncols=2,figsize=(10,5))\n",
    "train_data[\"columns94\"].hist(ax=ax[0][0])\n",
    "train_data[\"columns6\"].hist(ax=ax[0][1])\n",
    "train_data[\"columns3\"].hist(ax=ax[1][0])\n",
    "train_data[\"columns69\"].hist(ax=ax[1][1])"
   ]
  },
  {
   "cell_type": "code",
   "execution_count": 11,
   "metadata": {},
   "outputs": [
    {
     "data": {
      "text/plain": [
       "(0, 20000)"
      ]
     },
     "execution_count": 11,
     "metadata": {},
     "output_type": "execute_result"
    },
    {
     "data": {
      "image/png": "[encoded data removed]",
      "text/plain": [
       "<Figure size 864x360 with 2 Axes>"
      ]
     },
     "metadata": {},
     "output_type": "display_data"
    }
   ],
   "source": [
    "# Target Variable in trainning and test data. Looks like target variable is in same proportions in both datasets\n",
    "fig, ax = plt.subplots(nrows=1,ncols=2,figsize=(12,5))\n",
    "\n",
    "train_target = train_data[\"target\"].value_counts()\n",
    "sns.barplot(x = train_target.index,y=train_target.values,orient='v' ,ax=ax[0])\n",
    "test_target = data.test_data[\"target\"].value_counts()\n",
    "sns.barplot(x = test_target.index,y=test_target.values,orient='v' ,ax=ax[1])\n",
    "ax[1].set_ylim(0,20000)"
   ]
  },
  {
   "cell_type": "markdown",
   "metadata": {},
   "source": [
    "### Modeling "
   ]
  },
  {
   "cell_type": "code",
   "execution_count": 12,
   "metadata": {},
   "outputs": [],
   "source": [
    "X_train = train_data.drop(['target'],axis=1)\n",
    "Y_train = train_data[\"target\"]\n",
    "\n",
    "X_test = data.test_data[X_train.columns]\n",
    "Y_test = data.test_data[\"target\"]"
   ]
  },
  {
   "cell_type": "markdown",
   "metadata": {},
   "source": [
    "#### Logistic regression"
   ]
  },
  {
   "cell_type": "code",
   "execution_count": 13,
   "metadata": {},
   "outputs": [
    {
     "data": {
      "text/plain": [
       "0.7768190141176661"
      ]
     },
     "execution_count": 13,
     "metadata": {},
     "output_type": "execute_result"
    }
   ],
   "source": [
    "# Building logistic regression with L1 regularization. Using cross validation to get the AUC score \n",
    "LR = LogisticRegression(penalty=\"l2\")\n",
    "\n",
    "cross_val_score(LR,X_train,Y_train,cv=2,scoring = 'roc_auc').mean()"
   ]
  },
  {
   "cell_type": "markdown",
   "metadata": {},
   "source": [
    "#### Random forest"
   ]
  },
  {
   "cell_type": "code",
   "execution_count": 14,
   "metadata": {},
   "outputs": [
    {
     "data": {
      "text/plain": [
       "[<matplotlib.lines.Line2D at 0x22953028be0>]"
      ]
     },
     "execution_count": 14,
     "metadata": {},
     "output_type": "execute_result"
    },
    {
     "data": {
      "image/png": "[encoded data removed]",
      "text/plain": [
       "<Figure size 720x360 with 1 Axes>"
      ]
     },
     "metadata": {},
     "output_type": "display_data"
    }
   ],
   "source": [
    "# Tunning the number of trees \n",
    "rf_score = []\n",
    "for estimators in range(100,3000,200) :\n",
    "    rf = RandomForestClassifier(n_estimators = estimators,n_jobs=-1)\n",
    "    rf_score.append(cross_val_score(rf,X_train,Y_train,cv=3,scoring = 'roc_auc').mean())\n",
    "\n",
    "fig = plt.figure(figsize=(10,5))\n",
    "plt.plot(range(100,3000,200),rf_score)"
   ]
  },
  {
   "cell_type": "code",
   "execution_count": 15,
   "metadata": {},
   "outputs": [
    {
     "data": {
      "text/plain": [
       "({'max_depth': 13, 'min_samples_leaf': 60, 'min_samples_split': 600},\n",
       " 0.7938610270563237)"
      ]
     },
     "execution_count": 15,
     "metadata": {},
     "output_type": "execute_result"
    }
   ],
   "source": [
    "#Building a GBM Model \n",
    "#GridSearchCV to get optimal values for tree-based parameters \n",
    "#fixing learning rate to be 0.1 and estimators to be 40 and max_features to be sqrt\n",
    "\n",
    "gbm  = GradientBoostingClassifier()\n",
    "\n",
    "param_test1 = {'max_depth':range(5,16,2),\n",
    "               'min_samples_split':range(200,1001,200),\n",
    "               'min_samples_leaf':range(30,71,10),\n",
    "              }\n",
    "\n",
    "\n",
    "gsearch1 = GridSearchCV(estimator = GradientBoostingClassifier(learning_rate=0.1,n_estimators = 50,\n",
    "                                                               min_samples_split=500,min_samples_leaf=50,\n",
    "                                                               max_depth=8,max_features='sqrt',\n",
    "                                                               subsample=0.8,random_state=10),\n",
    "                        param_grid = param_test1, scoring='roc_auc',n_jobs=-1,iid=False, cv=3)\n",
    "\n",
    "gsearch1.fit(X_train,Y_train)\n",
    "gsearch1.best_params_, gsearch1.best_score_"
   ]
  },
  {
   "cell_type": "code",
   "execution_count": 16,
   "metadata": {},
   "outputs": [
    {
     "name": "stdout",
     "output_type": "stream",
     "text": [
      "CV Score : Mean - 0.7961299 | Std - 0.02967821 | Min - 0.7634603 | Max - 0.8401473\n"
     ]
    },
    {
     "data": {
      "text/plain": [
       "<matplotlib.axes._subplots.AxesSubplot at 0x22953181358>"
      ]
     },
     "execution_count": 16,
     "metadata": {},
     "output_type": "execute_result"
    },
    {
     "data": {
      "image/png": "[encoded data removed]",
      "text/plain": [
       "<Figure size 720x360 with 1 Axes>"
      ]
     },
     "metadata": {},
     "output_type": "display_data"
    }
   ],
   "source": [
    "# We get the optimal values as \n",
    "# max_depth = 13\n",
    "# min_samples_split = 600\n",
    "# min_samples_leaf = 60\n",
    "#Now decreasing the learning_rate and increasing the n_estimators\n",
    "\n",
    "gbm_tuned = GradientBoostingClassifier(learning_rate=0.01, n_estimators=1200,\n",
    "                                         max_depth=13, min_samples_split=600,min_samples_leaf=60,\n",
    "                                         subsample=0.85,random_state=10,max_features='sqrt')\n",
    "\n",
    "gbm_tuned.fit(X_train,Y_train)\n",
    "    \n",
    "#Perform cross-validation:\n",
    "cv_score = cross_val_score(gbm_tuned, X_train,Y_train, cv=5, scoring='roc_auc')\n",
    "    \n",
    "print (\"CV Score : Mean - %.7g | Std - %.7g | Min - %.7g | Max - %.7g\" % (np.mean(cv_score),np.std(cv_score),np.min(cv_score),np.max(cv_score)))\n",
    "        \n",
    "#Print Feature Importance:\n",
    "fig = plt.figure(figsize=(10,5))\n",
    "feat_imp = pd.Series(gbm_tuned.feature_importances_,X_train.columns ).sort_values(ascending=False)\n",
    "feat_imp.plot(kind='bar', title='Feature Importances')\n"
   ]
  },
  {
   "cell_type": "markdown",
   "metadata": {},
   "source": [
    "### Model Evaluation "
   ]
  },
  {
   "cell_type": "code",
   "execution_count": 51,
   "metadata": {},
   "outputs": [],
   "source": [
    "def roc_curve_plot(model,X_train,Y_train) :\n",
    "    prob = model.predict_proba(X_train)\n",
    "    preds = prob[:,1]\n",
    "    fpr, tpr, threshold = roc_curve(Y_train, preds)\n",
    "    roc_auc = auc(fpr, tpr)\n",
    "    \n",
    "    plt.title('Receiver Operating Characteristic')\n",
    "    plt.plot(fpr, tpr, 'b', label = 'AUC = %0.2f' % roc_auc)\n",
    "    plt.legend(loc = 'lower right')\n",
    "    plt.plot([0, 1], [0, 1],'r--')\n",
    "    plt.xlim([0, 1])\n",
    "    plt.ylim([0, 1])\n",
    "    plt.ylabel('True Positive Rate(TPR)')\n",
    "    plt.xlabel('False Positive Rate(FPR)')\n",
    "    plt.show()"
   ]
  },
  {
   "cell_type": "code",
   "execution_count": 54,
   "metadata": {},
   "outputs": [],
   "source": [
    "def model_evaluation(model,X_train=X_train,Y_train=Y_train,X_test=X_test,Y_test=Y_test) :\n",
    "    \n",
    "    train_pred = model.predict(X_train)\n",
    "    test_pred = model.predict(X_test)\n",
    "    \n",
    "    print(\"Training data score: \")\n",
    "    probs = model.predict_proba(X_train)\n",
    "    preds = probs[:,1]\n",
    "    fpr, tpr, threshold = roc_curve(Y_train, preds)\n",
    "    roc_auc = auc(fpr, tpr)\n",
    "    print(\"AUC: \"+str(roc_auc)+\"    Recall: \"+str(recall_score(Y_train,train_pred))+\n",
    "          \"    F1-score: \"+str(f1_score(Y_train,train_pred)))\n",
    "    print(\"Test data score:\")\n",
    "    probs = model.predict_proba(X_test)\n",
    "    preds = probs[:,1]\n",
    "    fpr, tpr, threshold = roc_curve(Y_test, preds)\n",
    "    roc_auc = auc(fpr, tpr)\n",
    "    print(\"AUC: \"+str(roc_auc)+\"    Recall: \"+str(recall_score(Y_test,test_pred))+\n",
    "          \"    F1-score: \"+str(f1_score(Y_test,test_pred)))\n"
   ]
  },
  {
   "cell_type": "code",
   "execution_count": 55,
   "metadata": {},
   "outputs": [
    {
     "name": "stdout",
     "output_type": "stream",
     "text": [
      "Training data score: \n",
      "AUC: 0.7864013461331871    Recall: 0.4331140350877193    F1-score: 0.5161899230434152\n",
      "Test data score:\n",
      "AUC: 0.7810285021639357    Recall: 0.41721371261852663    F1-score: 0.5040387722132472\n"
     ]
    }
   ],
   "source": [
    "LR = LogisticRegression(penalty=\"l1\")\n",
    "\n",
    "LR.fit(X_train,Y_train)\n",
    "\n",
    "model_evaluation(LR) #best linear model with not much difference in trainning and test score "
   ]
  },
  {
   "cell_type": "code",
   "execution_count": 57,
   "metadata": {},
   "outputs": [
    {
     "data": {
      "image/png": "[encoded data removed]",
      "text/plain": [
       "<Figure size 432x288 with 1 Axes>"
      ]
     },
     "metadata": {},
     "output_type": "display_data"
    }
   ],
   "source": [
    "roc_curve_plot(LR,X_train,Y_train)"
   ]
  },
  {
   "cell_type": "code",
   "execution_count": 58,
   "metadata": {},
   "outputs": [
    {
     "name": "stdout",
     "output_type": "stream",
     "text": [
      "Training data score: \n",
      "AUC: 0.9040346739863518    Recall: 0.6191520467836257    F1-score: 0.7002411298656562\n",
      "Test data score:\n",
      "AUC: 0.771514871028613    Recall: 0.4400680768295648    F1-score: 0.512022630834512\n"
     ]
    }
   ],
   "source": [
    "rf = RandomForestClassifier(n_estimators = 700,n_jobs=-1)\n",
    "\n",
    "rf.fit(X_train,Y_train)\n",
    "\n",
    "model_evaluation(rf) #Clearly we are ovverfitting here as trainning AUC is way higher than test "
   ]
  },
  {
   "cell_type": "code",
   "execution_count": 59,
   "metadata": {},
   "outputs": [
    {
     "name": "stdout",
     "output_type": "stream",
     "text": [
      "Training data score: \n",
      "AUC: 0.8249484033222088    Recall: 0.49171539961013644    F1-score: 0.5694532627865961\n",
      "Test data score:\n",
      "AUC: 0.7983078735524939    Recall: 0.45198152200340386    F1-score: 0.5292526690391458\n"
     ]
    }
   ],
   "source": [
    "gbm = GradientBoostingClassifier(learning_rate=0.01, n_estimators=1200,\n",
    "                                         max_depth=13, min_samples_split=600,min_samples_leaf=60,\n",
    "                                         subsample=0.85,random_state=10,max_features='sqrt')\n",
    "gbm.fit(X_train,Y_train)\n",
    "\n",
    "model_evaluation(gbm) #best model with 0.79 AUC"
   ]
  },
  {
   "cell_type": "code",
   "execution_count": 60,
   "metadata": {},
   "outputs": [
    {
     "data": {
      "image/png": "[encoded data removed]",
      "text/plain": [
       "<Figure size 432x288 with 1 Axes>"
      ]
     },
     "metadata": {},
     "output_type": "display_data"
    }
   ],
   "source": [
    "roc_curve_plot(gbm,X_train,Y_train)"
   ]
  },
  {
   "cell_type": "markdown",
   "metadata": {},
   "source": [
    "### Feature Importance"
   ]
  },
  {
   "cell_type": "code",
   "execution_count": 61,
   "metadata": {},
   "outputs": [
    {
     "data": {
      "text/plain": [
       "<matplotlib.axes._subplots.AxesSubplot at 0x22953115320>"
      ]
     },
     "execution_count": 61,
     "metadata": {},
     "output_type": "execute_result"
    },
    {
     "data": {
      "image/png": "[encoded data removed]",
      "text/plain": [
       "<Figure size 720x360 with 1 Axes>"
      ]
     },
     "metadata": {},
     "output_type": "display_data"
    }
   ],
   "source": [
    "fig = plt.figure(figsize=(10,5))\n",
    "feat_imp = pd.Series(gbm.feature_importances_,X_train.columns ).sort_values(ascending=False)\n",
    "feat_imp.plot(kind='bar', title='Feature Importances')"
   ]
  },
  {
   "cell_type": "markdown",
   "metadata": {},
   "source": [
    "### Column94 "
   ]
  },
  {
   "cell_type": "code",
   "execution_count": 62,
   "metadata": {},
   "outputs": [
    {
     "data": {
      "text/plain": [
       "<matplotlib.axes._subplots.AxesSubplot at 0x22952eeff28>"
      ]
     },
     "execution_count": 62,
     "metadata": {},
     "output_type": "execute_result"
    },
    {
     "data": {
      "image/png": "[encoded data removed]",
      "text/plain": [
       "<Figure size 432x288 with 1 Axes>"
      ]
     },
     "metadata": {},
     "output_type": "display_data"
    }
   ],
   "source": [
    "# we can clearly see the difference in distribution of data for two classes. Values less the 0 tends to be class\"0\" \n",
    "sns.boxplot(x=\"target\",y=\"columns94\",data=train_data)"
   ]
  },
  {
   "cell_type": "markdown",
   "metadata": {},
   "source": [
    "### Column 6"
   ]
  },
  {
   "cell_type": "code",
   "execution_count": 63,
   "metadata": {},
   "outputs": [
    {
     "data": {
      "text/plain": [
       "<matplotlib.axes._subplots.AxesSubplot at 0x2295298d320>"
      ]
     },
     "execution_count": 63,
     "metadata": {},
     "output_type": "execute_result"
    },
    {
     "data": {
      "image/png": "[encoded data removed]",
      "text/plain": [
       "<Figure size 432x288 with 1 Axes>"
      ]
     },
     "metadata": {},
     "output_type": "display_data"
    }
   ],
   "source": [
    "# datapoints with value greater than 0.5 tend to be class \"1\". As we have imblanaced data, features which can identify\n",
    "# even small portion of class \"1\" is given more importance\n",
    "sns.boxplot(x=\"target\",y=\"columns6\",data=train_data)"
   ]
  },
  {
   "cell_type": "markdown",
   "metadata": {},
   "source": [
    "### Next Steps\n",
    "\n",
    "#### Try using PCA to reduce the feature but this will loose interpretability of model\n",
    "#### use advanced models like Xgboost with parameter tunning to improve the model performance \n",
    "#### use packages like LIME and SHAP to understand the model and impact of features on target variable"
   ]
  },
  {
   "cell_type": "code",
   "execution_count": null,
   "metadata": {},
   "outputs": [],
   "source": []
  }
 ],
 "metadata": {
  "kernelspec": {
   "display_name": "Python 3",
   "language": "python",
   "name": "python3"
  },
  "language_info": {
   "codemirror_mode": {
    "name": "ipython",
    "version": 3
   },
   "file_extension": ".py",
   "mimetype": "text/x-python",
   "name": "python",
   "nbconvert_exporter": "python",
   "pygments_lexer": "ipython3",
   "version": "3.6.5"
  }
 },
 "nbformat": 4,
 "nbformat_minor": 2
}
